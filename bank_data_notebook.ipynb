{
 "cells": [
  {
   "cell_type": "code",
   "execution_count": 45,
   "id": "f36f8e67",
   "metadata": {},
   "outputs": [],
   "source": [
    "import pandas as pd\n",
    "import glob"
   ]
  },
  {
   "cell_type": "code",
   "execution_count": 46,
   "id": "2ff06dcd",
   "metadata": {},
   "outputs": [],
   "source": [
    "\"Reload the CSV file after code execution state reset\"\n",
    "financial_files_path = \"./data_csv/Financial_*.csv\"\n",
    "all_files = glob.glob(financial_files_path)"
   ]
  },
  {
   "cell_type": "code",
   "execution_count": 69,
   "id": "91b4dc54",
   "metadata": {},
   "outputs": [],
   "source": [
    "df_list = []\n",
    "for file in all_files:\n",
    "    temp_df = pd.read_csv(file)\n",
    "    quarter = file.split(\"_\")[2] + \"_\" + file.split(\"_\")[3].split(\".\")[0]\n",
    "    temp_df[\"quarter\"] = quarter\n",
    "    df_list.append(temp_df)"
   ]
  },
  {
   "cell_type": "code",
   "execution_count": 70,
   "id": "d26f00a1",
   "metadata": {},
   "outputs": [],
   "source": [
    "merged_df = pd.concat(df_list)"
   ]
  },
  {
   "cell_type": "code",
   "execution_count": null,
   "id": "a4fdb5f6",
   "metadata": {},
   "outputs": [],
   "source": [
    "# Define all additional CAMELS ratios from the available columns\n",
    "camels_ratios = pd.DataFrame({\n",
    "    \"cert\" : merged_df[\"CERT\"],\n",
    "    \"bank_name\" : merged_df[\"NAMEFULL\"],\n",
    "    \n",
    "    # Capital Adequacy (C)\n",
    "    \"equity_to_assets\": merged_df[\"EQV\"] / merged_df[\"NAASSET\"],\n",
    "    \"tier1_capital_ratio\": merged_df[\"IDT1CER\"],\n",
    "    \"tier1_rwa_ratio\": merged_df[\"IDT1RWAJR\"],\n",
    "    \"total_equity_ratio\": merged_df[\"EQTOT\"] / merged_df[\"NAASSET\"],\n",
    "    \"dividends_to_equity\": merged_df[\"EQCDIVNTINC\"] / merged_df[\"EQV\"],\n",
    "\n",
    "    # Asset Quality (A)\n",
    "    \"loan_loss_reserve_to_loans\": merged_df[\"LNATRESR\"] / merged_df[\"NTLNLSR\"],\n",
    "    \"noncurrent_loans_to_loans\": merged_df[\"NCLNLSR\"] / merged_df[\"NTLNLSR\"],\n",
    "    \"net_loans_to_assets\": merged_df[\"LNLSNET\"] / merged_df[\"NAASSET\"],\n",
    "    \"loan_depreciation_to_loans\": merged_df[\"LNLSDEPR\"] / merged_df[\"NTLNLSR\"],\n",
    "    \"ore_to_assets\": merged_df[\"LSAORE\"] / merged_df[\"NAASSET\"],\n",
    "    \"assets_past_due_30_89_to_assets\": merged_df[\"P3ASSET\"] / merged_df[\"NAASSET\"],\n",
    "    \"noncurrent_real_estate_to_assets\": merged_df[\"NCRER\"] / merged_df[\"NAASSET\"],\n",
    "    \"noncurrent_re_to_loans\": merged_df[\"NCRERESR\"] / merged_df[\"NTLNLSR\"],\n",
    "\n",
    "    # Management (M)\n",
    "    \"efficiency_ratio_proxy\": merged_df[\"EINTEXP\"] / merged_df[\"INTINC\"],\n",
    "    \"noninterest_income_to_assets\": merged_df[\"NONII\"] / merged_df[\"NAASSET\"],\n",
    "    \"operating_income_to_assets\": merged_df[\"NOIJ\"] / merged_df[\"NAASSET\"],\n",
    "    \"assets_per_employee\": merged_df[\"NAASSET\"] / merged_df[\"NUMEMP\"],\n",
    "\n",
    "    # Earnings (E)\n",
    "    \"return_on_assets\": merged_df[\"ROA\"],\n",
    "    \"pretax_return_on_assets\": merged_df[\"ROAPTX\"],\n",
    "    \"return_on_equity\": merged_df[\"ROE\"],\n",
    "    \"net_interest_margin\": merged_df[\"NIM\"],\n",
    "    \"net_income_to_assets\": merged_df[\"NETINC\"] / merged_df[\"NAASSET\"],\n",
    "    \"pretax_income_to_assets\": merged_df[\"PTAXNETINC\"] / merged_df[\"NAASSET\"],\n",
    "\n",
    "    # Liquidity (L)\n",
    "    \"net_loans_to_total_deposits\": merged_df[\"LNLSNET\"] / merged_df[\"DEP\"],\n",
    "    \"core_deposits_to_assets\": merged_df[\"COREDEP\"] / merged_df[\"NAASSET\"],\n",
    "    \"uninsured_deposits_to_total_deposits\": merged_df[\"DEPUNINS\"] / merged_df[\"DEP\"],\n",
    "    \"nonint_bearing_deposits_to_assets\": merged_df[\"DEPNIDOM\"] / merged_df[\"NAASSET\"],\n",
    "    \"insured_deposits_to_total_deposits\": merged_df[\"DEPINS\"] / merged_df[\"DEP\"],\n",
    "\n",
    "    # Sensitivity to Market Risk (S)\n",
    "    \"securities_to_assets\": merged_df[\"IGLSEC\"] / merged_df[\"NAASSET\"],\n",
    "    \"asset_sensitivity_proxy\": merged_df[\"ASDRRES\"] / merged_df[\"NAASSET\"],\n",
    "})"
   ]
  },
  {
   "cell_type": "code",
   "execution_count": 87,
   "id": "5ad54184",
   "metadata": {},
   "outputs": [
    {
     "data": {
      "text/plain": [
       "<bound method IndexOpsMixin.nunique of 0           9\n",
       "1          14\n",
       "2          35\n",
       "3          39\n",
       "4          41\n",
       "        ...  \n",
       "7743    90582\n",
       "7744    91005\n",
       "7745    91280\n",
       "7746    91325\n",
       "7747    91385\n",
       "Name: cert, Length: 168645, dtype: int64>"
      ]
     },
     "execution_count": 87,
     "metadata": {},
     "output_type": "execute_result"
    }
   ],
   "source": [
    "camels_ratios[\"cert\"].nunique"
   ]
  },
  {
   "cell_type": "code",
   "execution_count": 77,
   "id": "94c3f26d",
   "metadata": {},
   "outputs": [],
   "source": [
    "label_df = pd.read_csv(\"./data_csv/failed_bank-data.csv\")\n",
    "label_df[\"LABEL\"] = 1\n",
    "label_df = label_df[[\"CERT\",\"LABEL\"]]"
   ]
  },
  {
   "cell_type": "code",
   "execution_count": 79,
   "id": "5315018c",
   "metadata": {},
   "outputs": [
    {
     "data": {
      "text/html": [
       "<div>\n",
       "<style scoped>\n",
       "    .dataframe tbody tr th:only-of-type {\n",
       "        vertical-align: middle;\n",
       "    }\n",
       "\n",
       "    .dataframe tbody tr th {\n",
       "        vertical-align: top;\n",
       "    }\n",
       "\n",
       "    .dataframe thead th {\n",
       "        text-align: right;\n",
       "    }\n",
       "</style>\n",
       "<table border=\"1\" class=\"dataframe\">\n",
       "  <thead>\n",
       "    <tr style=\"text-align: right;\">\n",
       "      <th></th>\n",
       "      <th>CERT</th>\n",
       "      <th>LABEL</th>\n",
       "    </tr>\n",
       "  </thead>\n",
       "  <tbody>\n",
       "    <tr>\n",
       "      <th>0</th>\n",
       "      <td>19040</td>\n",
       "      <td>1</td>\n",
       "    </tr>\n",
       "    <tr>\n",
       "      <th>1</th>\n",
       "      <td>23306</td>\n",
       "      <td>1</td>\n",
       "    </tr>\n",
       "    <tr>\n",
       "      <th>2</th>\n",
       "      <td>34578</td>\n",
       "      <td>1</td>\n",
       "    </tr>\n",
       "    <tr>\n",
       "      <th>3</th>\n",
       "      <td>35065</td>\n",
       "      <td>1</td>\n",
       "    </tr>\n",
       "    <tr>\n",
       "      <th>4</th>\n",
       "      <td>58052</td>\n",
       "      <td>1</td>\n",
       "    </tr>\n",
       "    <tr>\n",
       "      <th>...</th>\n",
       "      <td>...</td>\n",
       "      <td>...</td>\n",
       "    </tr>\n",
       "    <tr>\n",
       "      <th>330</th>\n",
       "      <td>29730</td>\n",
       "      <td>1</td>\n",
       "    </tr>\n",
       "    <tr>\n",
       "      <th>331</th>\n",
       "      <td>12736</td>\n",
       "      <td>1</td>\n",
       "    </tr>\n",
       "    <tr>\n",
       "      <th>332</th>\n",
       "      <td>33901</td>\n",
       "      <td>1</td>\n",
       "    </tr>\n",
       "    <tr>\n",
       "      <th>333</th>\n",
       "      <td>1971</td>\n",
       "      <td>1</td>\n",
       "    </tr>\n",
       "    <tr>\n",
       "      <th>334</th>\n",
       "      <td>24660</td>\n",
       "      <td>1</td>\n",
       "    </tr>\n",
       "  </tbody>\n",
       "</table>\n",
       "<p>335 rows × 2 columns</p>\n",
       "</div>"
      ],
      "text/plain": [
       "      CERT  LABEL\n",
       "0    19040      1\n",
       "1    23306      1\n",
       "2    34578      1\n",
       "3    35065      1\n",
       "4    58052      1\n",
       "..     ...    ...\n",
       "330  29730      1\n",
       "331  12736      1\n",
       "332  33901      1\n",
       "333   1971      1\n",
       "334  24660      1\n",
       "\n",
       "[335 rows x 2 columns]"
      ]
     },
     "execution_count": 79,
     "metadata": {},
     "output_type": "execute_result"
    }
   ],
   "source": [
    "label_df"
   ]
  }
 ],
 "metadata": {
  "kernelspec": {
   "display_name": ".venv",
   "language": "python",
   "name": "python3"
  },
  "language_info": {
   "codemirror_mode": {
    "name": "ipython",
    "version": 3
   },
   "file_extension": ".py",
   "mimetype": "text/x-python",
   "name": "python",
   "nbconvert_exporter": "python",
   "pygments_lexer": "ipython3",
   "version": "3.13.3"
  }
 },
 "nbformat": 4,
 "nbformat_minor": 5
}
