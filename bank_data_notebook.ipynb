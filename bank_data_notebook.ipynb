{
 "cells": [
  {
   "cell_type": "code",
   "execution_count": 19,
   "id": "f36f8e67",
   "metadata": {},
   "outputs": [],
   "source": [
    "import pandas as pd\n",
    "import glob"
   ]
  },
  {
   "cell_type": "code",
   "execution_count": 35,
   "id": "2ff06dcd",
   "metadata": {},
   "outputs": [],
   "source": [
    "\"Reload the CSV file after code execution state reset\"\n",
    "financial_files_path = \"./data_csv/Financial_*.csv\"\n",
    "all_files = glob.glob(financial_files_path)"
   ]
  },
  {
   "cell_type": "code",
   "execution_count": null,
   "id": "91b4dc54",
   "metadata": {},
   "outputs": [],
   "source": [
    "df_list = []\n",
    "for file in all_files:\n",
    "    temp_df = pd.read_csv(file)\n",
    "    df_list.append(temp_df)"
   ]
  },
  {
   "cell_type": "code",
   "execution_count": 25,
   "id": "640f951e",
   "metadata": {},
   "outputs": [
    {
     "name": "stdout",
     "output_type": "stream",
     "text": [
      "   CERT                             NAMEFULL\n",
      "0     9                  UNION TRUST COMPANY\n",
      "1    14  STATE STREET BANK AND TRUST COMPANY\n",
      "2    35                           AUBURNBANK\n",
      "3    39            ROBERTSON BANKING COMPANY\n",
      "4    41                   PHENIX-GIRARD BANK\n"
     ]
    }
   ],
   "source": [
    "merged_df = pd.concat(df_list, ignore_index= True)\n",
    "print(merged_df[['CERT', 'NAMEFULL']].head())"
   ]
  },
  {
   "cell_type": "code",
   "execution_count": 33,
   "id": "5989adbf",
   "metadata": {},
   "outputs": [
    {
     "data": {
      "text/plain": [
       "158"
      ]
     },
     "execution_count": 33,
     "metadata": {},
     "output_type": "execute_result"
    }
   ],
   "source": [
    "len(merged_df.columns)"
   ]
  },
  {
   "cell_type": "code",
   "execution_count": 41,
   "id": "d1718ce0",
   "metadata": {},
   "outputs": [
    {
     "data": {
      "text/html": [
       "<div>\n",
       "<style scoped>\n",
       "    .dataframe tbody tr th:only-of-type {\n",
       "        vertical-align: middle;\n",
       "    }\n",
       "\n",
       "    .dataframe tbody tr th {\n",
       "        vertical-align: top;\n",
       "    }\n",
       "\n",
       "    .dataframe thead th {\n",
       "        text-align: right;\n",
       "    }\n",
       "</style>\n",
       "<table border=\"1\" class=\"dataframe\">\n",
       "  <thead>\n",
       "    <tr style=\"text-align: right;\">\n",
       "      <th></th>\n",
       "      <th>NAASSET</th>\n",
       "    </tr>\n",
       "  </thead>\n",
       "  <tbody>\n",
       "    <tr>\n",
       "      <th>0</th>\n",
       "      <td>1791</td>\n",
       "    </tr>\n",
       "    <tr>\n",
       "      <th>1</th>\n",
       "      <td>3975</td>\n",
       "    </tr>\n",
       "    <tr>\n",
       "      <th>2</th>\n",
       "      <td>21</td>\n",
       "    </tr>\n",
       "    <tr>\n",
       "      <th>3</th>\n",
       "      <td>1839</td>\n",
       "    </tr>\n",
       "    <tr>\n",
       "      <th>4</th>\n",
       "      <td>48</td>\n",
       "    </tr>\n",
       "    <tr>\n",
       "      <th>...</th>\n",
       "      <td>...</td>\n",
       "    </tr>\n",
       "    <tr>\n",
       "      <th>168640</th>\n",
       "      <td>2749</td>\n",
       "    </tr>\n",
       "    <tr>\n",
       "      <th>168641</th>\n",
       "      <td>2488</td>\n",
       "    </tr>\n",
       "    <tr>\n",
       "      <th>168642</th>\n",
       "      <td>1851</td>\n",
       "    </tr>\n",
       "    <tr>\n",
       "      <th>168643</th>\n",
       "      <td>0</td>\n",
       "    </tr>\n",
       "    <tr>\n",
       "      <th>168644</th>\n",
       "      <td>0</td>\n",
       "    </tr>\n",
       "  </tbody>\n",
       "</table>\n",
       "<p>168645 rows × 1 columns</p>\n",
       "</div>"
      ],
      "text/plain": [
       "        NAASSET\n",
       "0          1791\n",
       "1          3975\n",
       "2            21\n",
       "3          1839\n",
       "4            48\n",
       "...         ...\n",
       "168640     2749\n",
       "168641     2488\n",
       "168642     1851\n",
       "168643        0\n",
       "168644        0\n",
       "\n",
       "[168645 rows x 1 columns]"
      ]
     },
     "execution_count": 41,
     "metadata": {},
     "output_type": "execute_result"
    }
   ],
   "source": [
    "merged_df[['NAASSET']]"
   ]
  },
  {
   "cell_type": "code",
   "execution_count": 30,
   "id": "38f6bee8",
   "metadata": {},
   "outputs": [],
   "source": [
    "total_assets_df = pd.read_csv(\"./data_csv/Total_assets_2006_Q1.csv\")"
   ]
  },
  {
   "cell_type": "code",
   "execution_count": 27,
   "id": "c16112da",
   "metadata": {},
   "outputs": [
    {
     "ename": "KeyError",
     "evalue": "'EQV_x'",
     "output_type": "error",
     "traceback": [
      "\u001b[31m---------------------------------------------------------------------------\u001b[39m",
      "\u001b[31mKeyError\u001b[39m                                  Traceback (most recent call last)",
      "\u001b[36mFile \u001b[39m\u001b[32mc:\\Users\\khali\\OneDrive\\Documents\\GitHub\\financial_crisis_failure_prediction\\.venv\\Lib\\site-packages\\pandas\\core\\indexes\\base.py:3805\u001b[39m, in \u001b[36mIndex.get_loc\u001b[39m\u001b[34m(self, key)\u001b[39m\n\u001b[32m   3804\u001b[39m \u001b[38;5;28;01mtry\u001b[39;00m:\n\u001b[32m-> \u001b[39m\u001b[32m3805\u001b[39m     \u001b[38;5;28;01mreturn\u001b[39;00m \u001b[38;5;28;43mself\u001b[39;49m\u001b[43m.\u001b[49m\u001b[43m_engine\u001b[49m\u001b[43m.\u001b[49m\u001b[43mget_loc\u001b[49m\u001b[43m(\u001b[49m\u001b[43mcasted_key\u001b[49m\u001b[43m)\u001b[49m\n\u001b[32m   3806\u001b[39m \u001b[38;5;28;01mexcept\u001b[39;00m \u001b[38;5;167;01mKeyError\u001b[39;00m \u001b[38;5;28;01mas\u001b[39;00m err:\n",
      "\u001b[36mFile \u001b[39m\u001b[32mindex.pyx:167\u001b[39m, in \u001b[36mpandas._libs.index.IndexEngine.get_loc\u001b[39m\u001b[34m()\u001b[39m\n",
      "\u001b[36mFile \u001b[39m\u001b[32mindex.pyx:196\u001b[39m, in \u001b[36mpandas._libs.index.IndexEngine.get_loc\u001b[39m\u001b[34m()\u001b[39m\n",
      "\u001b[36mFile \u001b[39m\u001b[32mpandas\\\\_libs\\\\hashtable_class_helper.pxi:7081\u001b[39m, in \u001b[36mpandas._libs.hashtable.PyObjectHashTable.get_item\u001b[39m\u001b[34m()\u001b[39m\n",
      "\u001b[36mFile \u001b[39m\u001b[32mpandas\\\\_libs\\\\hashtable_class_helper.pxi:7089\u001b[39m, in \u001b[36mpandas._libs.hashtable.PyObjectHashTable.get_item\u001b[39m\u001b[34m()\u001b[39m\n",
      "\u001b[31mKeyError\u001b[39m: 'EQV_x'",
      "\nThe above exception was the direct cause of the following exception:\n",
      "\u001b[31mKeyError\u001b[39m                                  Traceback (most recent call last)",
      "\u001b[36mCell\u001b[39m\u001b[36m \u001b[39m\u001b[32mIn[27]\u001b[39m\u001b[32m, line 2\u001b[39m\n\u001b[32m      1\u001b[39m \u001b[38;5;66;03m# Recalculate CAMELS ratios using correct column names with suffix '_x'\u001b[39;00m\n\u001b[32m----> \u001b[39m\u001b[32m2\u001b[39m merged_df[\u001b[33m\"\u001b[39m\u001b[33mequity_to_assets\u001b[39m\u001b[33m\"\u001b[39m] = \u001b[43mmerged_df\u001b[49m\u001b[43m[\u001b[49m\u001b[33;43m\"\u001b[39;49m\u001b[33;43mEQV_x\u001b[39;49m\u001b[33;43m\"\u001b[39;49m\u001b[43m]\u001b[49m / merged_df[\u001b[33m\"\u001b[39m\u001b[33mNAASSET_x\u001b[39m\u001b[33m\"\u001b[39m]\n\u001b[32m      3\u001b[39m merged_df[\u001b[33m\"\u001b[39m\u001b[33mtier1_capital_ratio\u001b[39m\u001b[33m\"\u001b[39m] = merged_df[\u001b[33m\"\u001b[39m\u001b[33mIDT1CER_x\u001b[39m\u001b[33m\"\u001b[39m]\n\u001b[32m      4\u001b[39m merged_df[\u001b[33m\"\u001b[39m\u001b[33mloan_loss_reserve_to_loans\u001b[39m\u001b[33m\"\u001b[39m] = merged_df[\u001b[33m\"\u001b[39m\u001b[33mLNATRESR_x\u001b[39m\u001b[33m\"\u001b[39m] / merged_df[\u001b[33m\"\u001b[39m\u001b[33mNTLNLSR_x\u001b[39m\u001b[33m\"\u001b[39m]\n",
      "\u001b[36mFile \u001b[39m\u001b[32mc:\\Users\\khali\\OneDrive\\Documents\\GitHub\\financial_crisis_failure_prediction\\.venv\\Lib\\site-packages\\pandas\\core\\frame.py:4102\u001b[39m, in \u001b[36mDataFrame.__getitem__\u001b[39m\u001b[34m(self, key)\u001b[39m\n\u001b[32m   4100\u001b[39m \u001b[38;5;28;01mif\u001b[39;00m \u001b[38;5;28mself\u001b[39m.columns.nlevels > \u001b[32m1\u001b[39m:\n\u001b[32m   4101\u001b[39m     \u001b[38;5;28;01mreturn\u001b[39;00m \u001b[38;5;28mself\u001b[39m._getitem_multilevel(key)\n\u001b[32m-> \u001b[39m\u001b[32m4102\u001b[39m indexer = \u001b[38;5;28;43mself\u001b[39;49m\u001b[43m.\u001b[49m\u001b[43mcolumns\u001b[49m\u001b[43m.\u001b[49m\u001b[43mget_loc\u001b[49m\u001b[43m(\u001b[49m\u001b[43mkey\u001b[49m\u001b[43m)\u001b[49m\n\u001b[32m   4103\u001b[39m \u001b[38;5;28;01mif\u001b[39;00m is_integer(indexer):\n\u001b[32m   4104\u001b[39m     indexer = [indexer]\n",
      "\u001b[36mFile \u001b[39m\u001b[32mc:\\Users\\khali\\OneDrive\\Documents\\GitHub\\financial_crisis_failure_prediction\\.venv\\Lib\\site-packages\\pandas\\core\\indexes\\base.py:3812\u001b[39m, in \u001b[36mIndex.get_loc\u001b[39m\u001b[34m(self, key)\u001b[39m\n\u001b[32m   3807\u001b[39m     \u001b[38;5;28;01mif\u001b[39;00m \u001b[38;5;28misinstance\u001b[39m(casted_key, \u001b[38;5;28mslice\u001b[39m) \u001b[38;5;129;01mor\u001b[39;00m (\n\u001b[32m   3808\u001b[39m         \u001b[38;5;28misinstance\u001b[39m(casted_key, abc.Iterable)\n\u001b[32m   3809\u001b[39m         \u001b[38;5;129;01mand\u001b[39;00m \u001b[38;5;28many\u001b[39m(\u001b[38;5;28misinstance\u001b[39m(x, \u001b[38;5;28mslice\u001b[39m) \u001b[38;5;28;01mfor\u001b[39;00m x \u001b[38;5;129;01min\u001b[39;00m casted_key)\n\u001b[32m   3810\u001b[39m     ):\n\u001b[32m   3811\u001b[39m         \u001b[38;5;28;01mraise\u001b[39;00m InvalidIndexError(key)\n\u001b[32m-> \u001b[39m\u001b[32m3812\u001b[39m     \u001b[38;5;28;01mraise\u001b[39;00m \u001b[38;5;167;01mKeyError\u001b[39;00m(key) \u001b[38;5;28;01mfrom\u001b[39;00m\u001b[38;5;250m \u001b[39m\u001b[34;01merr\u001b[39;00m\n\u001b[32m   3813\u001b[39m \u001b[38;5;28;01mexcept\u001b[39;00m \u001b[38;5;167;01mTypeError\u001b[39;00m:\n\u001b[32m   3814\u001b[39m     \u001b[38;5;66;03m# If we have a listlike key, _check_indexing_error will raise\u001b[39;00m\n\u001b[32m   3815\u001b[39m     \u001b[38;5;66;03m#  InvalidIndexError. Otherwise we fall through and re-raise\u001b[39;00m\n\u001b[32m   3816\u001b[39m     \u001b[38;5;66;03m#  the TypeError.\u001b[39;00m\n\u001b[32m   3817\u001b[39m     \u001b[38;5;28mself\u001b[39m._check_indexing_error(key)\n",
      "\u001b[31mKeyError\u001b[39m: 'EQV_x'"
     ]
    }
   ],
   "source": [
    "# Recalculate CAMELS ratios using correct column names with suffix '_x'\n",
    "merged_df[\"equity_to_assets\"] = merged_df[\"EQV_x\"] / merged_df[\"NAASSET_x\"]\n",
    "merged_df[\"tier1_capital_ratio\"] = merged_df[\"IDT1CER_x\"]\n",
    "merged_df[\"loan_loss_reserve_to_loans\"] = merged_df[\"LNATRESR_x\"] / merged_df[\"NTLNLSR_x\"]\n",
    "merged_df[\"noncurrent_loans_to_loans\"] = merged_df[\"NCLNLSR_x\"] / merged_df[\"NTLNLSR_x\"]\n",
    "merged_df[\"net_loans_to_assets\"] = merged_df[\"LNLSNET_x\"] / merged_df[\"NAASSET_x\"]\n",
    "merged_df[\"efficiency_ratio\"] = merged_df[\"EINTEXP_x\"] / merged_df[\"INTINC_x\"]\n",
    "merged_df[\"noninterest_income_to_assets\"] = merged_df[\"NONII_x\"] / merged_df[\"NAASSET_x\"]\n",
    "merged_df[\"return_on_assets\"] = merged_df[\"ROA_x\"]\n",
    "merged_df[\"return_on_equity\"] = merged_df[\"ROE_x\"]\n",
    "merged_df[\"net_interest_margin\"] = merged_df[\"NIM_x\"]\n",
    "merged_df[\"net_loans_to_deposits\"] = merged_df[\"LNLSNET_x\"] / merged_df[\"DEPDOM_x\"]\n",
    "merged_df[\"core_deposits_to_assets\"] = merged_df[\"COREDEP_x\"] / merged_df[\"NAASSET_x\"]\n",
    "merged_df[\"securities_to_assets\"] = merged_df[\"IGLSEC_x\"] / merged_df[\"NAASSET_x\"]"
   ]
  }
 ],
 "metadata": {
  "kernelspec": {
   "display_name": ".venv",
   "language": "python",
   "name": "python3"
  },
  "language_info": {
   "codemirror_mode": {
    "name": "ipython",
    "version": 3
   },
   "file_extension": ".py",
   "mimetype": "text/x-python",
   "name": "python",
   "nbconvert_exporter": "python",
   "pygments_lexer": "ipython3",
   "version": "3.13.3"
  }
 },
 "nbformat": 4,
 "nbformat_minor": 5
}
